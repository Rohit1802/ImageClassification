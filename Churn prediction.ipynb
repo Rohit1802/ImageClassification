{
 "cells": [
  {
   "cell_type": "code",
   "execution_count": 1,
   "id": "2f171849",
   "metadata": {},
   "outputs": [],
   "source": [
    "import numpy as np\n",
    "import pandas as pd"
   ]
  },
  {
   "cell_type": "code",
   "execution_count": 2,
   "id": "d51e07e8",
   "metadata": {},
   "outputs": [],
   "source": [
    "df = pd.read_csv('Churn_Modelling.csv')"
   ]
  },
  {
   "cell_type": "code",
   "execution_count": 3,
   "id": "f19075f9",
   "metadata": {},
   "outputs": [
    {
     "data": {
      "text/html": [
       "<div>\n",
       "<style scoped>\n",
       "    .dataframe tbody tr th:only-of-type {\n",
       "        vertical-align: middle;\n",
       "    }\n",
       "\n",
       "    .dataframe tbody tr th {\n",
       "        vertical-align: top;\n",
       "    }\n",
       "\n",
       "    .dataframe thead th {\n",
       "        text-align: right;\n",
       "    }\n",
       "</style>\n",
       "<table border=\"1\" class=\"dataframe\">\n",
       "  <thead>\n",
       "    <tr style=\"text-align: right;\">\n",
       "      <th></th>\n",
       "      <th>RowNumber</th>\n",
       "      <th>CustomerId</th>\n",
       "      <th>Surname</th>\n",
       "      <th>CreditScore</th>\n",
       "      <th>Geography</th>\n",
       "      <th>Gender</th>\n",
       "      <th>Age</th>\n",
       "      <th>Tenure</th>\n",
       "      <th>Balance</th>\n",
       "      <th>NumOfProducts</th>\n",
       "      <th>HasCrCard</th>\n",
       "      <th>IsActiveMember</th>\n",
       "      <th>EstimatedSalary</th>\n",
       "      <th>Exited</th>\n",
       "    </tr>\n",
       "  </thead>\n",
       "  <tbody>\n",
       "    <tr>\n",
       "      <th>0</th>\n",
       "      <td>1</td>\n",
       "      <td>15634602</td>\n",
       "      <td>Hargrave</td>\n",
       "      <td>619</td>\n",
       "      <td>France</td>\n",
       "      <td>Female</td>\n",
       "      <td>42</td>\n",
       "      <td>2</td>\n",
       "      <td>0.00</td>\n",
       "      <td>1</td>\n",
       "      <td>1</td>\n",
       "      <td>1</td>\n",
       "      <td>101348.88</td>\n",
       "      <td>1</td>\n",
       "    </tr>\n",
       "    <tr>\n",
       "      <th>1</th>\n",
       "      <td>2</td>\n",
       "      <td>15647311</td>\n",
       "      <td>Hill</td>\n",
       "      <td>608</td>\n",
       "      <td>Spain</td>\n",
       "      <td>Female</td>\n",
       "      <td>41</td>\n",
       "      <td>1</td>\n",
       "      <td>83807.86</td>\n",
       "      <td>1</td>\n",
       "      <td>0</td>\n",
       "      <td>1</td>\n",
       "      <td>112542.58</td>\n",
       "      <td>0</td>\n",
       "    </tr>\n",
       "    <tr>\n",
       "      <th>2</th>\n",
       "      <td>3</td>\n",
       "      <td>15619304</td>\n",
       "      <td>Onio</td>\n",
       "      <td>502</td>\n",
       "      <td>France</td>\n",
       "      <td>Female</td>\n",
       "      <td>42</td>\n",
       "      <td>8</td>\n",
       "      <td>159660.80</td>\n",
       "      <td>3</td>\n",
       "      <td>1</td>\n",
       "      <td>0</td>\n",
       "      <td>113931.57</td>\n",
       "      <td>1</td>\n",
       "    </tr>\n",
       "    <tr>\n",
       "      <th>3</th>\n",
       "      <td>4</td>\n",
       "      <td>15701354</td>\n",
       "      <td>Boni</td>\n",
       "      <td>699</td>\n",
       "      <td>France</td>\n",
       "      <td>Female</td>\n",
       "      <td>39</td>\n",
       "      <td>1</td>\n",
       "      <td>0.00</td>\n",
       "      <td>2</td>\n",
       "      <td>0</td>\n",
       "      <td>0</td>\n",
       "      <td>93826.63</td>\n",
       "      <td>0</td>\n",
       "    </tr>\n",
       "    <tr>\n",
       "      <th>4</th>\n",
       "      <td>5</td>\n",
       "      <td>15737888</td>\n",
       "      <td>Mitchell</td>\n",
       "      <td>850</td>\n",
       "      <td>Spain</td>\n",
       "      <td>Female</td>\n",
       "      <td>43</td>\n",
       "      <td>2</td>\n",
       "      <td>125510.82</td>\n",
       "      <td>1</td>\n",
       "      <td>1</td>\n",
       "      <td>1</td>\n",
       "      <td>79084.10</td>\n",
       "      <td>0</td>\n",
       "    </tr>\n",
       "  </tbody>\n",
       "</table>\n",
       "</div>"
      ],
      "text/plain": [
       "   RowNumber  CustomerId   Surname  CreditScore Geography  Gender  Age  \\\n",
       "0          1    15634602  Hargrave          619    France  Female   42   \n",
       "1          2    15647311      Hill          608     Spain  Female   41   \n",
       "2          3    15619304      Onio          502    France  Female   42   \n",
       "3          4    15701354      Boni          699    France  Female   39   \n",
       "4          5    15737888  Mitchell          850     Spain  Female   43   \n",
       "\n",
       "   Tenure    Balance  NumOfProducts  HasCrCard  IsActiveMember  \\\n",
       "0       2       0.00              1          1               1   \n",
       "1       1   83807.86              1          0               1   \n",
       "2       8  159660.80              3          1               0   \n",
       "3       1       0.00              2          0               0   \n",
       "4       2  125510.82              1          1               1   \n",
       "\n",
       "   EstimatedSalary  Exited  \n",
       "0        101348.88       1  \n",
       "1        112542.58       0  \n",
       "2        113931.57       1  \n",
       "3         93826.63       0  \n",
       "4         79084.10       0  "
      ]
     },
     "execution_count": 3,
     "metadata": {},
     "output_type": "execute_result"
    }
   ],
   "source": [
    "df.head()"
   ]
  },
  {
   "cell_type": "code",
   "execution_count": 4,
   "id": "d0b25c5d",
   "metadata": {},
   "outputs": [
    {
     "data": {
      "text/plain": [
       "(10000, 14)"
      ]
     },
     "execution_count": 4,
     "metadata": {},
     "output_type": "execute_result"
    }
   ],
   "source": [
    "df.shape"
   ]
  },
  {
   "cell_type": "code",
   "execution_count": 5,
   "id": "8881358c",
   "metadata": {},
   "outputs": [
    {
     "name": "stdout",
     "output_type": "stream",
     "text": [
      "<class 'pandas.core.frame.DataFrame'>\n",
      "RangeIndex: 10000 entries, 0 to 9999\n",
      "Data columns (total 14 columns):\n",
      " #   Column           Non-Null Count  Dtype  \n",
      "---  ------           --------------  -----  \n",
      " 0   RowNumber        10000 non-null  int64  \n",
      " 1   CustomerId       10000 non-null  int64  \n",
      " 2   Surname          10000 non-null  object \n",
      " 3   CreditScore      10000 non-null  int64  \n",
      " 4   Geography        10000 non-null  object \n",
      " 5   Gender           10000 non-null  object \n",
      " 6   Age              10000 non-null  int64  \n",
      " 7   Tenure           10000 non-null  int64  \n",
      " 8   Balance          10000 non-null  float64\n",
      " 9   NumOfProducts    10000 non-null  int64  \n",
      " 10  HasCrCard        10000 non-null  int64  \n",
      " 11  IsActiveMember   10000 non-null  int64  \n",
      " 12  EstimatedSalary  10000 non-null  float64\n",
      " 13  Exited           10000 non-null  int64  \n",
      "dtypes: float64(2), int64(9), object(3)\n",
      "memory usage: 1.1+ MB\n"
     ]
    }
   ],
   "source": [
    "df.info()"
   ]
  },
  {
   "cell_type": "code",
   "execution_count": 6,
   "id": "d36c0b5b",
   "metadata": {},
   "outputs": [
    {
     "data": {
      "text/plain": [
       "0"
      ]
     },
     "execution_count": 6,
     "metadata": {},
     "output_type": "execute_result"
    }
   ],
   "source": [
    "df.duplicated().sum()"
   ]
  },
  {
   "cell_type": "code",
   "execution_count": 7,
   "id": "66305a40",
   "metadata": {},
   "outputs": [
    {
     "data": {
      "text/plain": [
       "0    7963\n",
       "1    2037\n",
       "Name: Exited, dtype: int64"
      ]
     },
     "execution_count": 7,
     "metadata": {},
     "output_type": "execute_result"
    }
   ],
   "source": [
    "df['Exited'].value_counts()"
   ]
  },
  {
   "cell_type": "code",
   "execution_count": 8,
   "id": "7e02f4f9",
   "metadata": {},
   "outputs": [
    {
     "data": {
      "text/plain": [
       "France     5014\n",
       "Germany    2509\n",
       "Spain      2477\n",
       "Name: Geography, dtype: int64"
      ]
     },
     "execution_count": 8,
     "metadata": {},
     "output_type": "execute_result"
    }
   ],
   "source": [
    "df['Geography'].value_counts()"
   ]
  },
  {
   "cell_type": "code",
   "execution_count": 9,
   "id": "279d8584",
   "metadata": {},
   "outputs": [
    {
     "data": {
      "text/plain": [
       "Male      5457\n",
       "Female    4543\n",
       "Name: Gender, dtype: int64"
      ]
     },
     "execution_count": 9,
     "metadata": {},
     "output_type": "execute_result"
    }
   ],
   "source": [
    "df['Gender'].value_counts()"
   ]
  },
  {
   "cell_type": "code",
   "execution_count": 10,
   "id": "0f69f91d",
   "metadata": {},
   "outputs": [],
   "source": [
    "df.drop(columns = ['RowNumber','CustomerId','Surname'],inplace=True)"
   ]
  },
  {
   "cell_type": "code",
   "execution_count": 11,
   "id": "776a5f2a",
   "metadata": {},
   "outputs": [
    {
     "data": {
      "text/plain": [
       "Male      5457\n",
       "Female    4543\n",
       "Name: Gender, dtype: int64"
      ]
     },
     "execution_count": 11,
     "metadata": {},
     "output_type": "execute_result"
    }
   ],
   "source": [
    "df['Gender'].value_counts()"
   ]
  },
  {
   "cell_type": "code",
   "execution_count": 12,
   "id": "827b93c7",
   "metadata": {},
   "outputs": [
    {
     "data": {
      "text/html": [
       "<div>\n",
       "<style scoped>\n",
       "    .dataframe tbody tr th:only-of-type {\n",
       "        vertical-align: middle;\n",
       "    }\n",
       "\n",
       "    .dataframe tbody tr th {\n",
       "        vertical-align: top;\n",
       "    }\n",
       "\n",
       "    .dataframe thead th {\n",
       "        text-align: right;\n",
       "    }\n",
       "</style>\n",
       "<table border=\"1\" class=\"dataframe\">\n",
       "  <thead>\n",
       "    <tr style=\"text-align: right;\">\n",
       "      <th></th>\n",
       "      <th>CreditScore</th>\n",
       "      <th>Age</th>\n",
       "      <th>Tenure</th>\n",
       "      <th>Balance</th>\n",
       "      <th>NumOfProducts</th>\n",
       "      <th>HasCrCard</th>\n",
       "      <th>IsActiveMember</th>\n",
       "      <th>EstimatedSalary</th>\n",
       "      <th>Exited</th>\n",
       "      <th>Geography_Germany</th>\n",
       "      <th>Geography_Spain</th>\n",
       "      <th>Gender_Male</th>\n",
       "    </tr>\n",
       "  </thead>\n",
       "  <tbody>\n",
       "    <tr>\n",
       "      <th>0</th>\n",
       "      <td>619</td>\n",
       "      <td>42</td>\n",
       "      <td>2</td>\n",
       "      <td>0.00</td>\n",
       "      <td>1</td>\n",
       "      <td>1</td>\n",
       "      <td>1</td>\n",
       "      <td>101348.88</td>\n",
       "      <td>1</td>\n",
       "      <td>0</td>\n",
       "      <td>0</td>\n",
       "      <td>0</td>\n",
       "    </tr>\n",
       "    <tr>\n",
       "      <th>1</th>\n",
       "      <td>608</td>\n",
       "      <td>41</td>\n",
       "      <td>1</td>\n",
       "      <td>83807.86</td>\n",
       "      <td>1</td>\n",
       "      <td>0</td>\n",
       "      <td>1</td>\n",
       "      <td>112542.58</td>\n",
       "      <td>0</td>\n",
       "      <td>0</td>\n",
       "      <td>1</td>\n",
       "      <td>0</td>\n",
       "    </tr>\n",
       "    <tr>\n",
       "      <th>2</th>\n",
       "      <td>502</td>\n",
       "      <td>42</td>\n",
       "      <td>8</td>\n",
       "      <td>159660.80</td>\n",
       "      <td>3</td>\n",
       "      <td>1</td>\n",
       "      <td>0</td>\n",
       "      <td>113931.57</td>\n",
       "      <td>1</td>\n",
       "      <td>0</td>\n",
       "      <td>0</td>\n",
       "      <td>0</td>\n",
       "    </tr>\n",
       "    <tr>\n",
       "      <th>3</th>\n",
       "      <td>699</td>\n",
       "      <td>39</td>\n",
       "      <td>1</td>\n",
       "      <td>0.00</td>\n",
       "      <td>2</td>\n",
       "      <td>0</td>\n",
       "      <td>0</td>\n",
       "      <td>93826.63</td>\n",
       "      <td>0</td>\n",
       "      <td>0</td>\n",
       "      <td>0</td>\n",
       "      <td>0</td>\n",
       "    </tr>\n",
       "    <tr>\n",
       "      <th>4</th>\n",
       "      <td>850</td>\n",
       "      <td>43</td>\n",
       "      <td>2</td>\n",
       "      <td>125510.82</td>\n",
       "      <td>1</td>\n",
       "      <td>1</td>\n",
       "      <td>1</td>\n",
       "      <td>79084.10</td>\n",
       "      <td>0</td>\n",
       "      <td>0</td>\n",
       "      <td>1</td>\n",
       "      <td>0</td>\n",
       "    </tr>\n",
       "  </tbody>\n",
       "</table>\n",
       "</div>"
      ],
      "text/plain": [
       "   CreditScore  Age  Tenure    Balance  NumOfProducts  HasCrCard  \\\n",
       "0          619   42       2       0.00              1          1   \n",
       "1          608   41       1   83807.86              1          0   \n",
       "2          502   42       8  159660.80              3          1   \n",
       "3          699   39       1       0.00              2          0   \n",
       "4          850   43       2  125510.82              1          1   \n",
       "\n",
       "   IsActiveMember  EstimatedSalary  Exited  Geography_Germany  \\\n",
       "0               1        101348.88       1                  0   \n",
       "1               1        112542.58       0                  0   \n",
       "2               0        113931.57       1                  0   \n",
       "3               0         93826.63       0                  0   \n",
       "4               1         79084.10       0                  0   \n",
       "\n",
       "   Geography_Spain  Gender_Male  \n",
       "0                0            0  \n",
       "1                1            0  \n",
       "2                0            0  \n",
       "3                0            0  \n",
       "4                1            0  "
      ]
     },
     "execution_count": 12,
     "metadata": {},
     "output_type": "execute_result"
    }
   ],
   "source": [
    "df = pd.get_dummies(df,columns=['Geography','Gender'],drop_first=True)\n",
    "df.head()"
   ]
  },
  {
   "cell_type": "code",
   "execution_count": 13,
   "id": "db970530",
   "metadata": {},
   "outputs": [],
   "source": [
    "X = df.drop(columns=['Exited'])\n",
    "y = df['Exited'].values\n",
    "\n",
    "from sklearn.model_selection import train_test_split\n",
    "X_train,X_test,y_train,y_test = train_test_split(X,y,test_size=0.2,random_state=0)"
   ]
  },
  {
   "cell_type": "code",
   "execution_count": 14,
   "id": "22df81dc",
   "metadata": {},
   "outputs": [
    {
     "data": {
      "text/plain": [
       "(8000, 11)"
      ]
     },
     "execution_count": 14,
     "metadata": {},
     "output_type": "execute_result"
    }
   ],
   "source": [
    "X_train.shape"
   ]
  },
  {
   "cell_type": "code",
   "execution_count": 15,
   "id": "c3862748",
   "metadata": {},
   "outputs": [],
   "source": [
    "from sklearn.preprocessing import StandardScaler\n",
    "scaler = StandardScaler()\n",
    "\n",
    "X_train_scaled = scaler.fit_transform(X_train)\n",
    "X_test_scaled = scaler.transform(X_test)"
   ]
  },
  {
   "cell_type": "code",
   "execution_count": 16,
   "id": "f6de00ed",
   "metadata": {},
   "outputs": [
    {
     "data": {
      "text/plain": [
       "array([[ 0.16958176, -0.46460796,  0.00666099, ..., -0.5698444 ,\n",
       "         1.74309049, -1.09168714],\n",
       "       [-2.30455945,  0.30102557, -1.37744033, ...,  1.75486502,\n",
       "        -0.57369368,  0.91601335],\n",
       "       [-1.19119591, -0.94312892, -1.031415  , ..., -0.5698444 ,\n",
       "        -0.57369368, -1.09168714],\n",
       "       ...,\n",
       "       [ 0.9015152 , -0.36890377,  0.00666099, ..., -0.5698444 ,\n",
       "        -0.57369368,  0.91601335],\n",
       "       [-0.62420521, -0.08179119,  1.39076231, ..., -0.5698444 ,\n",
       "         1.74309049, -1.09168714],\n",
       "       [-0.28401079,  0.87525072, -1.37744033, ...,  1.75486502,\n",
       "        -0.57369368, -1.09168714]])"
      ]
     },
     "execution_count": 16,
     "metadata": {},
     "output_type": "execute_result"
    }
   ],
   "source": [
    "X_train_scaled"
   ]
  },
  {
   "cell_type": "code",
   "execution_count": 17,
   "id": "4e4d0054",
   "metadata": {},
   "outputs": [],
   "source": [
    "import tensorflow\n",
    "from tensorflow import keras\n",
    "from tensorflow.keras import Sequential\n",
    "from tensorflow.keras.layers import Dense"
   ]
  },
  {
   "cell_type": "code",
   "execution_count": 18,
   "id": "ec6b574b",
   "metadata": {},
   "outputs": [],
   "source": [
    "model = Sequential()\n",
    "model.add(Dense(11, activation='relu', input_dim=11))\n",
    "model.add(Dense(11, activation='relu'))\n",
    "model.add(Dense(1, activation='sigmoid'))\n"
   ]
  },
  {
   "cell_type": "code",
   "execution_count": 19,
   "id": "92f546a8",
   "metadata": {},
   "outputs": [
    {
     "name": "stdout",
     "output_type": "stream",
     "text": [
      "Model: \"sequential\"\n",
      "_________________________________________________________________\n",
      " Layer (type)                Output Shape              Param #   \n",
      "=================================================================\n",
      " dense (Dense)               (None, 11)                132       \n",
      "                                                                 \n",
      " dense_1 (Dense)             (None, 11)                132       \n",
      "                                                                 \n",
      " dense_2 (Dense)             (None, 1)                 12        \n",
      "                                                                 \n",
      "=================================================================\n",
      "Total params: 276\n",
      "Trainable params: 276\n",
      "Non-trainable params: 0\n",
      "_________________________________________________________________\n"
     ]
    }
   ],
   "source": [
    "model.summary()"
   ]
  },
  {
   "cell_type": "code",
   "execution_count": 20,
   "id": "9c61b614",
   "metadata": {},
   "outputs": [],
   "source": [
    "model.compile(loss='binary_crossentropy', optimizer='Adam' , metrics=['accuracy'])"
   ]
  },
  {
   "cell_type": "code",
   "execution_count": 21,
   "id": "15405dab",
   "metadata": {},
   "outputs": [
    {
     "name": "stdout",
     "output_type": "stream",
     "text": [
      "Epoch 1/100\n",
      "200/200 [==============================] - 2s 6ms/step - loss: 0.5194 - accuracy: 0.7825 - val_loss: 0.4510 - val_accuracy: 0.8181\n",
      "Epoch 2/100\n",
      "200/200 [==============================] - 1s 6ms/step - loss: 0.4307 - accuracy: 0.8178 - val_loss: 0.4188 - val_accuracy: 0.8194\n",
      "Epoch 3/100\n",
      "200/200 [==============================] - 1s 5ms/step - loss: 0.4055 - accuracy: 0.8320 - val_loss: 0.4037 - val_accuracy: 0.8250\n",
      "Epoch 4/100\n",
      "200/200 [==============================] - 1s 5ms/step - loss: 0.3914 - accuracy: 0.8397 - val_loss: 0.3940 - val_accuracy: 0.8275\n",
      "Epoch 5/100\n",
      "200/200 [==============================] - 1s 5ms/step - loss: 0.3812 - accuracy: 0.8438 - val_loss: 0.3870 - val_accuracy: 0.8350\n",
      "Epoch 6/100\n",
      "200/200 [==============================] - 1s 4ms/step - loss: 0.3739 - accuracy: 0.8458 - val_loss: 0.3811 - val_accuracy: 0.8375\n",
      "Epoch 7/100\n",
      "200/200 [==============================] - 1s 6ms/step - loss: 0.3675 - accuracy: 0.8514 - val_loss: 0.3769 - val_accuracy: 0.8431\n",
      "Epoch 8/100\n",
      "200/200 [==============================] - 1s 4ms/step - loss: 0.3636 - accuracy: 0.8500 - val_loss: 0.3725 - val_accuracy: 0.8425\n",
      "Epoch 9/100\n",
      "200/200 [==============================] - 1s 5ms/step - loss: 0.3590 - accuracy: 0.8534 - val_loss: 0.3690 - val_accuracy: 0.8425\n",
      "Epoch 10/100\n",
      "200/200 [==============================] - 1s 4ms/step - loss: 0.3559 - accuracy: 0.8550 - val_loss: 0.3666 - val_accuracy: 0.8413\n",
      "Epoch 11/100\n",
      "200/200 [==============================] - 1s 6ms/step - loss: 0.3530 - accuracy: 0.8550 - val_loss: 0.3652 - val_accuracy: 0.8469\n",
      "Epoch 12/100\n",
      "200/200 [==============================] - 1s 6ms/step - loss: 0.3494 - accuracy: 0.8562 - val_loss: 0.3632 - val_accuracy: 0.8425\n",
      "Epoch 13/100\n",
      "200/200 [==============================] - 1s 5ms/step - loss: 0.3472 - accuracy: 0.8580 - val_loss: 0.3615 - val_accuracy: 0.8419\n",
      "Epoch 14/100\n",
      "200/200 [==============================] - 1s 3ms/step - loss: 0.3452 - accuracy: 0.8591 - val_loss: 0.3601 - val_accuracy: 0.8469\n",
      "Epoch 15/100\n",
      "200/200 [==============================] - 1s 3ms/step - loss: 0.3431 - accuracy: 0.8577 - val_loss: 0.3600 - val_accuracy: 0.8438\n",
      "Epoch 16/100\n",
      "200/200 [==============================] - 1s 5ms/step - loss: 0.3423 - accuracy: 0.8570 - val_loss: 0.3587 - val_accuracy: 0.8481\n",
      "Epoch 17/100\n",
      "200/200 [==============================] - 1s 4ms/step - loss: 0.3409 - accuracy: 0.8592 - val_loss: 0.3584 - val_accuracy: 0.8481\n",
      "Epoch 18/100\n",
      "200/200 [==============================] - 1s 6ms/step - loss: 0.3401 - accuracy: 0.8573 - val_loss: 0.3586 - val_accuracy: 0.8506\n",
      "Epoch 19/100\n",
      "200/200 [==============================] - 1s 4ms/step - loss: 0.3387 - accuracy: 0.8583 - val_loss: 0.3594 - val_accuracy: 0.8487\n",
      "Epoch 20/100\n",
      "200/200 [==============================] - 1s 7ms/step - loss: 0.3385 - accuracy: 0.8591 - val_loss: 0.3574 - val_accuracy: 0.8487\n",
      "Epoch 21/100\n",
      "200/200 [==============================] - 1s 6ms/step - loss: 0.3383 - accuracy: 0.8572 - val_loss: 0.3568 - val_accuracy: 0.8500\n",
      "Epoch 22/100\n",
      "200/200 [==============================] - 1s 7ms/step - loss: 0.3380 - accuracy: 0.8583 - val_loss: 0.3564 - val_accuracy: 0.8500\n",
      "Epoch 23/100\n",
      "200/200 [==============================] - 1s 6ms/step - loss: 0.3374 - accuracy: 0.8581 - val_loss: 0.3563 - val_accuracy: 0.8475\n",
      "Epoch 24/100\n",
      "200/200 [==============================] - 1s 6ms/step - loss: 0.3363 - accuracy: 0.8591 - val_loss: 0.3568 - val_accuracy: 0.8487\n",
      "Epoch 25/100\n",
      "200/200 [==============================] - 1s 6ms/step - loss: 0.3361 - accuracy: 0.8595 - val_loss: 0.3550 - val_accuracy: 0.8506\n",
      "Epoch 26/100\n",
      "200/200 [==============================] - 1s 6ms/step - loss: 0.3357 - accuracy: 0.8591 - val_loss: 0.3554 - val_accuracy: 0.8525\n",
      "Epoch 27/100\n",
      "200/200 [==============================] - 1s 6ms/step - loss: 0.3352 - accuracy: 0.8591 - val_loss: 0.3552 - val_accuracy: 0.8537\n",
      "Epoch 28/100\n",
      "200/200 [==============================] - 1s 6ms/step - loss: 0.3345 - accuracy: 0.8572 - val_loss: 0.3574 - val_accuracy: 0.8469\n",
      "Epoch 29/100\n",
      "200/200 [==============================] - 1s 6ms/step - loss: 0.3347 - accuracy: 0.8583 - val_loss: 0.3549 - val_accuracy: 0.8512\n",
      "Epoch 30/100\n",
      "200/200 [==============================] - 1s 6ms/step - loss: 0.3341 - accuracy: 0.8591 - val_loss: 0.3552 - val_accuracy: 0.8500\n",
      "Epoch 31/100\n",
      "200/200 [==============================] - 1s 5ms/step - loss: 0.3338 - accuracy: 0.8602 - val_loss: 0.3547 - val_accuracy: 0.8506\n",
      "Epoch 32/100\n",
      "200/200 [==============================] - 1s 3ms/step - loss: 0.3337 - accuracy: 0.8589 - val_loss: 0.3533 - val_accuracy: 0.8537\n",
      "Epoch 33/100\n",
      "200/200 [==============================] - 1s 3ms/step - loss: 0.3335 - accuracy: 0.8592 - val_loss: 0.3535 - val_accuracy: 0.8544\n",
      "Epoch 34/100\n",
      "200/200 [==============================] - 1s 6ms/step - loss: 0.3329 - accuracy: 0.8609 - val_loss: 0.3535 - val_accuracy: 0.8544\n",
      "Epoch 35/100\n",
      "200/200 [==============================] - 1s 6ms/step - loss: 0.3326 - accuracy: 0.8597 - val_loss: 0.3561 - val_accuracy: 0.8506\n",
      "Epoch 36/100\n",
      "200/200 [==============================] - 1s 7ms/step - loss: 0.3330 - accuracy: 0.8603 - val_loss: 0.3528 - val_accuracy: 0.8531\n",
      "Epoch 37/100\n",
      "200/200 [==============================] - 1s 5ms/step - loss: 0.3315 - accuracy: 0.8619 - val_loss: 0.3539 - val_accuracy: 0.8506\n",
      "Epoch 38/100\n",
      "200/200 [==============================] - 1s 6ms/step - loss: 0.3318 - accuracy: 0.8594 - val_loss: 0.3523 - val_accuracy: 0.8556\n",
      "Epoch 39/100\n",
      "200/200 [==============================] - 1s 6ms/step - loss: 0.3311 - accuracy: 0.8617 - val_loss: 0.3532 - val_accuracy: 0.8537\n",
      "Epoch 40/100\n",
      "200/200 [==============================] - 1s 6ms/step - loss: 0.3308 - accuracy: 0.8612 - val_loss: 0.3550 - val_accuracy: 0.8506\n",
      "Epoch 41/100\n",
      "200/200 [==============================] - 1s 6ms/step - loss: 0.3316 - accuracy: 0.8598 - val_loss: 0.3535 - val_accuracy: 0.8506\n",
      "Epoch 42/100\n",
      "200/200 [==============================] - 1s 6ms/step - loss: 0.3309 - accuracy: 0.8591 - val_loss: 0.3548 - val_accuracy: 0.8569\n",
      "Epoch 43/100\n",
      "200/200 [==============================] - 1s 7ms/step - loss: 0.3306 - accuracy: 0.8602 - val_loss: 0.3545 - val_accuracy: 0.8512\n",
      "Epoch 44/100\n",
      "200/200 [==============================] - 1s 7ms/step - loss: 0.3302 - accuracy: 0.8600 - val_loss: 0.3532 - val_accuracy: 0.8519\n",
      "Epoch 45/100\n",
      "200/200 [==============================] - 1s 6ms/step - loss: 0.3296 - accuracy: 0.8608 - val_loss: 0.3536 - val_accuracy: 0.8525\n",
      "Epoch 46/100\n",
      "200/200 [==============================] - 1s 6ms/step - loss: 0.3302 - accuracy: 0.8602 - val_loss: 0.3529 - val_accuracy: 0.8556\n",
      "Epoch 47/100\n",
      "200/200 [==============================] - 1s 7ms/step - loss: 0.3292 - accuracy: 0.8619 - val_loss: 0.3538 - val_accuracy: 0.8556\n",
      "Epoch 48/100\n",
      "200/200 [==============================] - 1s 4ms/step - loss: 0.3293 - accuracy: 0.8619 - val_loss: 0.3530 - val_accuracy: 0.8519\n",
      "Epoch 49/100\n",
      "200/200 [==============================] - 1s 4ms/step - loss: 0.3287 - accuracy: 0.8611 - val_loss: 0.3542 - val_accuracy: 0.8525\n",
      "Epoch 50/100\n",
      "200/200 [==============================] - 1s 6ms/step - loss: 0.3290 - accuracy: 0.8636 - val_loss: 0.3542 - val_accuracy: 0.8525\n",
      "Epoch 51/100\n",
      "200/200 [==============================] - 1s 6ms/step - loss: 0.3283 - accuracy: 0.8606 - val_loss: 0.3529 - val_accuracy: 0.8500\n",
      "Epoch 52/100\n",
      "200/200 [==============================] - 1s 4ms/step - loss: 0.3278 - accuracy: 0.8620 - val_loss: 0.3541 - val_accuracy: 0.8569\n",
      "Epoch 53/100\n",
      "200/200 [==============================] - 1s 4ms/step - loss: 0.3280 - accuracy: 0.8611 - val_loss: 0.3527 - val_accuracy: 0.8531\n",
      "Epoch 54/100\n",
      "200/200 [==============================] - 1s 6ms/step - loss: 0.3276 - accuracy: 0.8634 - val_loss: 0.3541 - val_accuracy: 0.8537\n",
      "Epoch 55/100\n",
      "200/200 [==============================] - 1s 7ms/step - loss: 0.3275 - accuracy: 0.8631 - val_loss: 0.3535 - val_accuracy: 0.8544\n",
      "Epoch 56/100\n",
      "200/200 [==============================] - 1s 7ms/step - loss: 0.3279 - accuracy: 0.8625 - val_loss: 0.3536 - val_accuracy: 0.8556\n",
      "Epoch 57/100\n",
      "200/200 [==============================] - 1s 6ms/step - loss: 0.3268 - accuracy: 0.8617 - val_loss: 0.3543 - val_accuracy: 0.8525\n"
     ]
    },
    {
     "name": "stdout",
     "output_type": "stream",
     "text": [
      "Epoch 58/100\n",
      "200/200 [==============================] - 1s 6ms/step - loss: 0.3274 - accuracy: 0.8612 - val_loss: 0.3532 - val_accuracy: 0.8562\n",
      "Epoch 59/100\n",
      "200/200 [==============================] - 1s 6ms/step - loss: 0.3264 - accuracy: 0.8639 - val_loss: 0.3538 - val_accuracy: 0.8556\n",
      "Epoch 60/100\n",
      "200/200 [==============================] - 1s 6ms/step - loss: 0.3273 - accuracy: 0.8639 - val_loss: 0.3528 - val_accuracy: 0.8550\n",
      "Epoch 61/100\n",
      "200/200 [==============================] - 1s 6ms/step - loss: 0.3265 - accuracy: 0.8625 - val_loss: 0.3536 - val_accuracy: 0.8525\n",
      "Epoch 62/100\n",
      "200/200 [==============================] - 1s 6ms/step - loss: 0.3262 - accuracy: 0.8645 - val_loss: 0.3539 - val_accuracy: 0.8531\n",
      "Epoch 63/100\n",
      "200/200 [==============================] - 1s 6ms/step - loss: 0.3256 - accuracy: 0.8631 - val_loss: 0.3545 - val_accuracy: 0.8544\n",
      "Epoch 64/100\n",
      "200/200 [==============================] - 1s 7ms/step - loss: 0.3259 - accuracy: 0.8636 - val_loss: 0.3526 - val_accuracy: 0.8544\n",
      "Epoch 65/100\n",
      "200/200 [==============================] - 1s 6ms/step - loss: 0.3255 - accuracy: 0.8631 - val_loss: 0.3525 - val_accuracy: 0.8544\n",
      "Epoch 66/100\n",
      "200/200 [==============================] - 1s 4ms/step - loss: 0.3261 - accuracy: 0.8642 - val_loss: 0.3527 - val_accuracy: 0.8556\n",
      "Epoch 67/100\n",
      "200/200 [==============================] - 1s 4ms/step - loss: 0.3254 - accuracy: 0.8633 - val_loss: 0.3541 - val_accuracy: 0.8544\n",
      "Epoch 68/100\n",
      "200/200 [==============================] - 1s 4ms/step - loss: 0.3246 - accuracy: 0.8641 - val_loss: 0.3529 - val_accuracy: 0.8537\n",
      "Epoch 69/100\n",
      "200/200 [==============================] - 1s 4ms/step - loss: 0.3251 - accuracy: 0.8627 - val_loss: 0.3529 - val_accuracy: 0.8544\n",
      "Epoch 70/100\n",
      "200/200 [==============================] - 1s 3ms/step - loss: 0.3236 - accuracy: 0.8641 - val_loss: 0.3566 - val_accuracy: 0.8581\n",
      "Epoch 71/100\n",
      "200/200 [==============================] - 1s 5ms/step - loss: 0.3245 - accuracy: 0.8622 - val_loss: 0.3533 - val_accuracy: 0.8569\n",
      "Epoch 72/100\n",
      "200/200 [==============================] - 1s 5ms/step - loss: 0.3240 - accuracy: 0.8644 - val_loss: 0.3543 - val_accuracy: 0.8575\n",
      "Epoch 73/100\n",
      "200/200 [==============================] - 1s 5ms/step - loss: 0.3238 - accuracy: 0.8647 - val_loss: 0.3527 - val_accuracy: 0.8544\n",
      "Epoch 74/100\n",
      "200/200 [==============================] - 1s 3ms/step - loss: 0.3241 - accuracy: 0.8616 - val_loss: 0.3538 - val_accuracy: 0.8556\n",
      "Epoch 75/100\n",
      "200/200 [==============================] - 1s 4ms/step - loss: 0.3230 - accuracy: 0.8637 - val_loss: 0.3528 - val_accuracy: 0.8537\n",
      "Epoch 76/100\n",
      "200/200 [==============================] - 1s 6ms/step - loss: 0.3226 - accuracy: 0.8661 - val_loss: 0.3594 - val_accuracy: 0.8562\n",
      "Epoch 77/100\n",
      "200/200 [==============================] - 1s 5ms/step - loss: 0.3237 - accuracy: 0.8637 - val_loss: 0.3528 - val_accuracy: 0.8562\n",
      "Epoch 78/100\n",
      "200/200 [==============================] - 1s 6ms/step - loss: 0.3229 - accuracy: 0.8659 - val_loss: 0.3561 - val_accuracy: 0.8537\n",
      "Epoch 79/100\n",
      "200/200 [==============================] - 1s 6ms/step - loss: 0.3231 - accuracy: 0.8634 - val_loss: 0.3537 - val_accuracy: 0.8531\n",
      "Epoch 80/100\n",
      "200/200 [==============================] - 1s 3ms/step - loss: 0.3228 - accuracy: 0.8631 - val_loss: 0.3522 - val_accuracy: 0.8562\n",
      "Epoch 81/100\n",
      "200/200 [==============================] - 1s 6ms/step - loss: 0.3224 - accuracy: 0.8642 - val_loss: 0.3535 - val_accuracy: 0.8569\n",
      "Epoch 82/100\n",
      "200/200 [==============================] - 1s 7ms/step - loss: 0.3225 - accuracy: 0.8642 - val_loss: 0.3529 - val_accuracy: 0.8544\n",
      "Epoch 83/100\n",
      "200/200 [==============================] - 1s 5ms/step - loss: 0.3226 - accuracy: 0.8634 - val_loss: 0.3524 - val_accuracy: 0.8556\n",
      "Epoch 84/100\n",
      "200/200 [==============================] - 1s 4ms/step - loss: 0.3223 - accuracy: 0.8653 - val_loss: 0.3521 - val_accuracy: 0.8556\n",
      "Epoch 85/100\n",
      "200/200 [==============================] - 1s 4ms/step - loss: 0.3223 - accuracy: 0.8655 - val_loss: 0.3528 - val_accuracy: 0.8550\n",
      "Epoch 86/100\n",
      "200/200 [==============================] - 1s 4ms/step - loss: 0.3216 - accuracy: 0.8653 - val_loss: 0.3547 - val_accuracy: 0.8575\n",
      "Epoch 87/100\n",
      "200/200 [==============================] - 1s 6ms/step - loss: 0.3225 - accuracy: 0.8648 - val_loss: 0.3520 - val_accuracy: 0.8587\n",
      "Epoch 88/100\n",
      "200/200 [==============================] - 1s 6ms/step - loss: 0.3215 - accuracy: 0.8662 - val_loss: 0.3525 - val_accuracy: 0.8562\n",
      "Epoch 89/100\n",
      "200/200 [==============================] - 1s 4ms/step - loss: 0.3220 - accuracy: 0.8650 - val_loss: 0.3524 - val_accuracy: 0.8569\n",
      "Epoch 90/100\n",
      "200/200 [==============================] - 1s 5ms/step - loss: 0.3214 - accuracy: 0.8644 - val_loss: 0.3534 - val_accuracy: 0.8581\n",
      "Epoch 91/100\n",
      "200/200 [==============================] - 1s 6ms/step - loss: 0.3216 - accuracy: 0.8650 - val_loss: 0.3526 - val_accuracy: 0.8562\n",
      "Epoch 92/100\n",
      "200/200 [==============================] - 1s 5ms/step - loss: 0.3209 - accuracy: 0.8659 - val_loss: 0.3533 - val_accuracy: 0.8569\n",
      "Epoch 93/100\n",
      "200/200 [==============================] - 1s 4ms/step - loss: 0.3211 - accuracy: 0.8639 - val_loss: 0.3536 - val_accuracy: 0.8544\n",
      "Epoch 94/100\n",
      "200/200 [==============================] - 1s 5ms/step - loss: 0.3210 - accuracy: 0.8645 - val_loss: 0.3539 - val_accuracy: 0.8562\n",
      "Epoch 95/100\n",
      "200/200 [==============================] - 1s 5ms/step - loss: 0.3207 - accuracy: 0.8667 - val_loss: 0.3540 - val_accuracy: 0.8562\n",
      "Epoch 96/100\n",
      "200/200 [==============================] - 1s 6ms/step - loss: 0.3214 - accuracy: 0.8650 - val_loss: 0.3544 - val_accuracy: 0.8581\n",
      "Epoch 97/100\n",
      "200/200 [==============================] - 1s 6ms/step - loss: 0.3205 - accuracy: 0.8656 - val_loss: 0.3533 - val_accuracy: 0.8556\n",
      "Epoch 98/100\n",
      "200/200 [==============================] - 1s 5ms/step - loss: 0.3203 - accuracy: 0.8661 - val_loss: 0.3538 - val_accuracy: 0.8575\n",
      "Epoch 99/100\n",
      "200/200 [==============================] - 1s 4ms/step - loss: 0.3202 - accuracy: 0.8662 - val_loss: 0.3554 - val_accuracy: 0.8525\n",
      "Epoch 100/100\n",
      "200/200 [==============================] - 1s 6ms/step - loss: 0.3208 - accuracy: 0.8658 - val_loss: 0.3538 - val_accuracy: 0.8569\n"
     ]
    }
   ],
   "source": [
    "history = model.fit(X_train_scaled, y_train, epochs=100, validation_split=0.2)"
   ]
  },
  {
   "cell_type": "code",
   "execution_count": 22,
   "id": "bedf2d25",
   "metadata": {},
   "outputs": [
    {
     "data": {
      "text/plain": [
       "[array([[-0.11530899,  0.35411507, -0.56085336,  0.4534432 ,  0.07712989,\n",
       "          0.30528462,  0.09984352, -0.5026925 , -0.6025439 ,  0.24992558,\n",
       "          0.12213184],\n",
       "        [ 0.56972295, -0.27721724,  0.17610352, -0.26201597,  0.93019444,\n",
       "          0.04649181,  0.49295518,  0.15906458, -1.6072283 , -0.6723604 ,\n",
       "          0.84674454],\n",
       "        [ 0.27379242, -0.19311698, -0.11190786, -0.03618174,  0.20187129,\n",
       "         -0.12792449, -0.15303184,  0.2735726 ,  0.03256544, -0.17691289,\n",
       "          0.56866956],\n",
       "        [ 0.6207751 , -0.56370866,  0.2933808 ,  0.34754214, -0.32747465,\n",
       "         -0.21700254, -0.32739514, -0.7746932 , -1.6522117 , -0.18729031,\n",
       "         -0.08449683],\n",
       "        [-0.6537265 , -0.9354156 ,  0.47754073,  0.11881875,  0.20689984,\n",
       "         -0.07642422,  0.48943853, -0.16780433, -0.15710975,  0.1460472 ,\n",
       "         -0.30618176],\n",
       "        [ 0.05545399, -0.41502666,  0.3010642 ,  0.25565398, -0.75302327,\n",
       "          0.6486533 ,  0.4527702 ,  0.6314879 , -0.04736995,  0.35393474,\n",
       "          0.46728498],\n",
       "        [-0.4844292 ,  0.4809625 ,  0.6022168 , -0.04155337,  0.18700357,\n",
       "          0.5301184 ,  0.1898601 , -0.5626919 , -0.53791344, -0.15098134,\n",
       "         -0.1060476 ],\n",
       "        [-0.18382159, -0.23833343, -0.5325804 , -0.41374832,  0.9417475 ,\n",
       "          0.1118638 , -0.37484035, -0.16186851,  0.23598595, -0.32718295,\n",
       "          0.1109065 ],\n",
       "        [ 0.08424748,  0.31201598,  0.14184053, -0.663506  , -0.4538171 ,\n",
       "          0.45487615,  0.07498272, -0.0449229 ,  0.77945966,  0.24301127,\n",
       "         -0.41066238],\n",
       "        [ 0.05249427,  0.621848  ,  0.49198437,  0.34843192,  0.01078239,\n",
       "         -1.1312189 , -0.57729834,  0.47827286,  0.19141458,  0.35727325,\n",
       "         -0.01924387],\n",
       "        [ 0.5030007 ,  0.17094241,  0.39344335,  0.5355292 ,  0.4271386 ,\n",
       "         -0.13599259, -0.12694791,  0.34528604, -0.31557405, -0.14134678,\n",
       "         -0.30697113]], dtype=float32),\n",
       " array([ 0.11646209, -0.39768004,  0.3053524 ,  0.3121443 ,  0.05769255,\n",
       "         0.48133594,  0.6526297 ,  0.03042843,  0.34604204,  0.19255354,\n",
       "        -0.02593058], dtype=float32)]"
      ]
     },
     "execution_count": 22,
     "metadata": {},
     "output_type": "execute_result"
    }
   ],
   "source": [
    "model.layers[1].get_weights()"
   ]
  },
  {
   "cell_type": "code",
   "execution_count": 23,
   "id": "8ead2481",
   "metadata": {},
   "outputs": [
    {
     "name": "stdout",
     "output_type": "stream",
     "text": [
      "63/63 [==============================] - 0s 2ms/step\n"
     ]
    }
   ],
   "source": [
    "y_log = model.predict(X_test_scaled)"
   ]
  },
  {
   "cell_type": "code",
   "execution_count": 24,
   "id": "41542434",
   "metadata": {},
   "outputs": [],
   "source": [
    "y_pred = np.where(y_log > 0.5 ,1 ,0)"
   ]
  },
  {
   "cell_type": "code",
   "execution_count": 25,
   "id": "faa7feee",
   "metadata": {},
   "outputs": [
    {
     "data": {
      "text/plain": [
       "0.8595"
      ]
     },
     "execution_count": 25,
     "metadata": {},
     "output_type": "execute_result"
    }
   ],
   "source": [
    "from sklearn.metrics import accuracy_score\n",
    "accuracy_score(y_test,y_pred)"
   ]
  },
  {
   "cell_type": "code",
   "execution_count": 27,
   "id": "b2c647d5",
   "metadata": {},
   "outputs": [
    {
     "data": {
      "text/plain": [
       "[<matplotlib.lines.Line2D at 0x2a87f8aaec0>]"
      ]
     },
     "execution_count": 27,
     "metadata": {},
     "output_type": "execute_result"
    },
    {
     "data": {
      "image/png": "[encoded data removed]",
      "text/plain": [
       "<Figure size 432x288 with 1 Axes>"
      ]
     },
     "metadata": {
      "needs_background": "light"
     },
     "output_type": "display_data"
    }
   ],
   "source": [
    "import matplotlib.pyplot as plt\n",
    "plt.plot(history.history['loss'])\n",
    "plt.plot(history.history['val_loss'])"
   ]
  },
  {
   "cell_type": "code",
   "execution_count": null,
   "id": "be93ae10",
   "metadata": {},
   "outputs": [],
   "source": [
    "plt.plot(history.history['loss'])\n",
    "plt.plot(history.history['val_loss'])"
   ]
  }
 ],
 "metadata": {
  "kernelspec": {
   "display_name": "Python 3 (ipykernel)",
   "language": "python",
   "name": "python3"
  },
  "language_info": {
   "codemirror_mode": {
    "name": "ipython",
    "version": 3
   },
   "file_extension": ".py",
   "mimetype": "text/x-python",
   "name": "python",
   "nbconvert_exporter": "python",
   "pygments_lexer": "ipython3",
   "version": "3.10.4"
  }
 },
 "nbformat": 4,
 "nbformat_minor": 5
}
